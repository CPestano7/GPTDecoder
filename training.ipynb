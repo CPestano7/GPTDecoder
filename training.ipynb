{
 "cells": [
  {
   "cell_type": "code",
   "execution_count": 18,
   "metadata": {},
   "outputs": [
    {
     "name": "stdout",
     "output_type": "stream",
     "text": [
      "The autoreload extension is already loaded. To reload it, use:\n",
      "  %reload_ext autoreload\n"
     ]
    }
   ],
   "source": [
    "%load_ext autoreload\n",
    "%autoreload 2"
   ]
  },
  {
   "cell_type": "markdown",
   "metadata": {},
   "source": [
    "## Imports"
   ]
  },
  {
   "cell_type": "code",
   "execution_count": 19,
   "metadata": {},
   "outputs": [],
   "source": [
    "import torch\n",
    "import kagglehub\n",
    "import pandas as pd\n",
    "from data_loader import CustomDataLoader\n",
    "from train import TrainingLoop\n",
    "from eval import Evaluate\n",
    "import torch.nn.functional as F\n",
    "\n",
    "# added for plots\n",
    "import matplotlib.pyplot as plt\n"
   ]
  },
  {
   "cell_type": "markdown",
   "metadata": {},
   "source": [
    "## Download Dataset"
   ]
  },
  {
   "cell_type": "code",
   "execution_count": 20,
   "metadata": {},
   "outputs": [
    {
     "name": "stdout",
     "output_type": "stream",
     "text": [
      "Path to dataset files: C:\\Users\\pesta\\.cache\\kagglehub\\datasets\\jp797498e\\twitter-entity-sentiment-analysis\\versions\\2\n"
     ]
    }
   ],
   "source": [
    "# Download the dataset to the specified path\n",
    "path = kagglehub.dataset_download(\"jp797498e/twitter-entity-sentiment-analysis\")\n",
    "\n",
    "print(\"Path to dataset files:\", path)"
   ]
  },
  {
   "cell_type": "markdown",
   "metadata": {},
   "source": [
    "## Read data into CSV files"
   ]
  },
  {
   "cell_type": "code",
   "execution_count": 21,
   "metadata": {},
   "outputs": [],
   "source": [
    "train_df = pd.read_csv(f\"{path}/twitter_training.csv\", header = None)\n",
    "val_df = pd.read_csv(f\"{path}/twitter_validation.csv\", header = None)"
   ]
  },
  {
   "cell_type": "code",
   "execution_count": 22,
   "metadata": {},
   "outputs": [
    {
     "data": {
      "text/html": [
       "<div>\n",
       "<style scoped>\n",
       "    .dataframe tbody tr th:only-of-type {\n",
       "        vertical-align: middle;\n",
       "    }\n",
       "\n",
       "    .dataframe tbody tr th {\n",
       "        vertical-align: top;\n",
       "    }\n",
       "\n",
       "    .dataframe thead th {\n",
       "        text-align: right;\n",
       "    }\n",
       "</style>\n",
       "<table border=\"1\" class=\"dataframe\">\n",
       "  <thead>\n",
       "    <tr style=\"text-align: right;\">\n",
       "      <th></th>\n",
       "      <th>0</th>\n",
       "      <th>1</th>\n",
       "      <th>2</th>\n",
       "      <th>3</th>\n",
       "    </tr>\n",
       "  </thead>\n",
       "  <tbody>\n",
       "    <tr>\n",
       "      <th>0</th>\n",
       "      <td>2401</td>\n",
       "      <td>Borderlands</td>\n",
       "      <td>Positive</td>\n",
       "      <td>im getting on borderlands and i will murder yo...</td>\n",
       "    </tr>\n",
       "    <tr>\n",
       "      <th>1</th>\n",
       "      <td>2401</td>\n",
       "      <td>Borderlands</td>\n",
       "      <td>Positive</td>\n",
       "      <td>I am coming to the borders and I will kill you...</td>\n",
       "    </tr>\n",
       "    <tr>\n",
       "      <th>2</th>\n",
       "      <td>2401</td>\n",
       "      <td>Borderlands</td>\n",
       "      <td>Positive</td>\n",
       "      <td>im getting on borderlands and i will kill you ...</td>\n",
       "    </tr>\n",
       "    <tr>\n",
       "      <th>3</th>\n",
       "      <td>2401</td>\n",
       "      <td>Borderlands</td>\n",
       "      <td>Positive</td>\n",
       "      <td>im coming on borderlands and i will murder you...</td>\n",
       "    </tr>\n",
       "    <tr>\n",
       "      <th>4</th>\n",
       "      <td>2401</td>\n",
       "      <td>Borderlands</td>\n",
       "      <td>Positive</td>\n",
       "      <td>im getting on borderlands 2 and i will murder ...</td>\n",
       "    </tr>\n",
       "  </tbody>\n",
       "</table>\n",
       "</div>"
      ],
      "text/plain": [
       "      0            1         2  \\\n",
       "0  2401  Borderlands  Positive   \n",
       "1  2401  Borderlands  Positive   \n",
       "2  2401  Borderlands  Positive   \n",
       "3  2401  Borderlands  Positive   \n",
       "4  2401  Borderlands  Positive   \n",
       "\n",
       "                                                   3  \n",
       "0  im getting on borderlands and i will murder yo...  \n",
       "1  I am coming to the borders and I will kill you...  \n",
       "2  im getting on borderlands and i will kill you ...  \n",
       "3  im coming on borderlands and i will murder you...  \n",
       "4  im getting on borderlands 2 and i will murder ...  "
      ]
     },
     "execution_count": 22,
     "metadata": {},
     "output_type": "execute_result"
    }
   ],
   "source": [
    "train_df.head()"
   ]
  },
  {
   "cell_type": "code",
   "execution_count": 23,
   "metadata": {},
   "outputs": [
    {
     "name": "stdout",
     "output_type": "stream",
     "text": [
      "Total number of samples: 75682\n",
      "Number of samples in training set: 74682\n",
      "Number of samples in validation set: 1000\n"
     ]
    }
   ],
   "source": [
    "x = train_df.shape[0] + val_df.shape[0]\n",
    "print(f\"Total number of samples: {x}\")\n",
    "print(f\"Number of samples in training set: {train_df.shape[0]}\")\n",
    "print(f\"Number of samples in validation set: {val_df.shape[0]}\")"
   ]
  },
  {
   "cell_type": "markdown",
   "metadata": {},
   "source": [
    "## Load data in CustomDataLoader"
   ]
  },
  {
   "cell_type": "code",
   "execution_count": 24,
   "metadata": {},
   "outputs": [],
   "source": [
    "text_col = 3    # Column index for input text\n",
    "label_col = 2   # Column index for labels\n",
    "batch_size = 64 # Batch size for training and validation\n",
    "\n",
    "# Initialize CustomDataLoader\n",
    "custom_loader = CustomDataLoader(train_df, val_df, text_col, label_col, batch_size)\n",
    "\n",
    "# Get train and validation loaders\n",
    "train_loader = custom_loader.get_train_loader(shuffle=True)\n",
    "val_loader = custom_loader.get_val_loader(shuffle=True)"
   ]
  },
  {
   "cell_type": "markdown",
   "metadata": {},
   "source": [
    "## Define Model Params"
   ]
  },
  {
   "cell_type": "code",
   "execution_count": 25,
   "metadata": {},
   "outputs": [],
   "source": [
    "model_version = \"test\""
   ]
  },
  {
   "cell_type": "code",
   "execution_count": 26,
   "metadata": {},
   "outputs": [],
   "source": [
    "model_params = {\n",
    "    \"vocab_size\": train_loader.dataset.vocab_size,\n",
    "    \"num_embeddings\": 200,\n",
    "    \"block_size\": train_loader.dataset.block_size,\n",
    "    \"num_heads\": 4,\n",
    "    \"num_layers\": 4,\n",
    "    \"output_classes\": len(train_loader.dataset.labels_lookup_dict),\n",
    "    \"dropout\": 0.2,\n",
    "    \"device\": 'cuda' if torch.cuda.is_available() else 'cpu'\n",
    "}"
   ]
  },
  {
   "cell_type": "markdown",
   "metadata": {},
   "source": [
    "## Define Training Params"
   ]
  },
  {
   "cell_type": "code",
   "execution_count": 27,
   "metadata": {},
   "outputs": [],
   "source": [
    "train_params = {\n",
    "    \"num_epochs\": 500,\n",
    "    \"eval_interval\": 50,\n",
    "    \"eval_iters\": 50,\n",
    "    \"learning_rate\": 3e-4\n",
    "}"
   ]
  },
  {
   "cell_type": "markdown",
   "metadata": {},
   "source": [
    "## Training Loop"
   ]
  },
  {
   "cell_type": "code",
   "execution_count": 28,
   "metadata": {},
   "outputs": [
    {
     "name": "stderr",
     "output_type": "stream",
     "text": [
      "\u001b[32m2024-12-02 18:21:30.893\u001b[0m | \u001b[1mINFO    \u001b[0m | \u001b[36mtrain\u001b[0m:\u001b[36mtrain\u001b[0m:\u001b[36m135\u001b[0m - \u001b[1mFor epoch 0: Train loss-> 1.588350625038147 | Val loss-> 1.6305779004096985\u001b[0m\n",
      "\u001b[32m2024-12-02 18:21:31.176\u001b[0m | \u001b[1mINFO    \u001b[0m | \u001b[36mtrain\u001b[0m:\u001b[36msave_checkpoint\u001b[0m:\u001b[36m72\u001b[0m - \u001b[1mCheckpoint saved: ./models/model_test/checkpoint_epoch_0.pth\u001b[0m\n",
      "\u001b[32m2024-12-02 18:21:31.468\u001b[0m | \u001b[1mINFO    \u001b[0m | \u001b[36mtrain\u001b[0m:\u001b[36msave_checkpoint\u001b[0m:\u001b[36m77\u001b[0m - \u001b[1mBest model saved: ./models/model_test/best_model.pth\u001b[0m\n",
      "\u001b[32m2024-12-02 18:21:37.221\u001b[0m | \u001b[1mINFO    \u001b[0m | \u001b[36mtrain\u001b[0m:\u001b[36mtrain\u001b[0m:\u001b[36m135\u001b[0m - \u001b[1mFor epoch 50: Train loss-> 1.318736982345581 | Val loss-> 1.3427851963043214\u001b[0m\n",
      "\u001b[32m2024-12-02 18:21:37.500\u001b[0m | \u001b[1mINFO    \u001b[0m | \u001b[36mtrain\u001b[0m:\u001b[36msave_checkpoint\u001b[0m:\u001b[36m72\u001b[0m - \u001b[1mCheckpoint saved: ./models/model_test/checkpoint_epoch_50.pth\u001b[0m\n",
      "\u001b[32m2024-12-02 18:21:37.763\u001b[0m | \u001b[1mINFO    \u001b[0m | \u001b[36mtrain\u001b[0m:\u001b[36msave_checkpoint\u001b[0m:\u001b[36m77\u001b[0m - \u001b[1mBest model saved: ./models/model_test/best_model.pth\u001b[0m\n",
      "\u001b[32m2024-12-02 18:21:43.169\u001b[0m | \u001b[1mINFO    \u001b[0m | \u001b[36mtrain\u001b[0m:\u001b[36mtrain\u001b[0m:\u001b[36m135\u001b[0m - \u001b[1mFor epoch 100: Train loss-> 1.2881325531005858 | Val loss-> 1.2876120519638061\u001b[0m\n",
      "\u001b[32m2024-12-02 18:21:43.450\u001b[0m | \u001b[1mINFO    \u001b[0m | \u001b[36mtrain\u001b[0m:\u001b[36msave_checkpoint\u001b[0m:\u001b[36m72\u001b[0m - \u001b[1mCheckpoint saved: ./models/model_test/checkpoint_epoch_100.pth\u001b[0m\n",
      "\u001b[32m2024-12-02 18:21:43.711\u001b[0m | \u001b[1mINFO    \u001b[0m | \u001b[36mtrain\u001b[0m:\u001b[36msave_checkpoint\u001b[0m:\u001b[36m77\u001b[0m - \u001b[1mBest model saved: ./models/model_test/best_model.pth\u001b[0m\n",
      "\u001b[32m2024-12-02 18:21:49.134\u001b[0m | \u001b[1mINFO    \u001b[0m | \u001b[36mtrain\u001b[0m:\u001b[36mtrain\u001b[0m:\u001b[36m135\u001b[0m - \u001b[1mFor epoch 150: Train loss-> 1.28753121137619 | Val loss-> 1.2606995272636414\u001b[0m\n",
      "\u001b[32m2024-12-02 18:21:49.430\u001b[0m | \u001b[1mINFO    \u001b[0m | \u001b[36mtrain\u001b[0m:\u001b[36msave_checkpoint\u001b[0m:\u001b[36m72\u001b[0m - \u001b[1mCheckpoint saved: ./models/model_test/checkpoint_epoch_150.pth\u001b[0m\n",
      "\u001b[32m2024-12-02 18:21:49.706\u001b[0m | \u001b[1mINFO    \u001b[0m | \u001b[36mtrain\u001b[0m:\u001b[36msave_checkpoint\u001b[0m:\u001b[36m77\u001b[0m - \u001b[1mBest model saved: ./models/model_test/best_model.pth\u001b[0m\n",
      "\u001b[32m2024-12-02 18:21:55.229\u001b[0m | \u001b[1mINFO    \u001b[0m | \u001b[36mtrain\u001b[0m:\u001b[36mtrain\u001b[0m:\u001b[36m135\u001b[0m - \u001b[1mFor epoch 200: Train loss-> 1.2545812582969667 | Val loss-> 1.2579326295852662\u001b[0m\n",
      "\u001b[32m2024-12-02 18:21:55.523\u001b[0m | \u001b[1mINFO    \u001b[0m | \u001b[36mtrain\u001b[0m:\u001b[36msave_checkpoint\u001b[0m:\u001b[36m72\u001b[0m - \u001b[1mCheckpoint saved: ./models/model_test/checkpoint_epoch_200.pth\u001b[0m\n",
      "\u001b[32m2024-12-02 18:21:55.783\u001b[0m | \u001b[1mINFO    \u001b[0m | \u001b[36mtrain\u001b[0m:\u001b[36msave_checkpoint\u001b[0m:\u001b[36m77\u001b[0m - \u001b[1mBest model saved: ./models/model_test/best_model.pth\u001b[0m\n",
      "\u001b[32m2024-12-02 18:22:01.225\u001b[0m | \u001b[1mINFO    \u001b[0m | \u001b[36mtrain\u001b[0m:\u001b[36mtrain\u001b[0m:\u001b[36m135\u001b[0m - \u001b[1mFor epoch 250: Train loss-> 1.2376726984977722 | Val loss-> 1.231686964035034\u001b[0m\n",
      "\u001b[32m2024-12-02 18:22:01.527\u001b[0m | \u001b[1mINFO    \u001b[0m | \u001b[36mtrain\u001b[0m:\u001b[36msave_checkpoint\u001b[0m:\u001b[36m72\u001b[0m - \u001b[1mCheckpoint saved: ./models/model_test/checkpoint_epoch_250.pth\u001b[0m\n",
      "\u001b[32m2024-12-02 18:22:01.779\u001b[0m | \u001b[1mINFO    \u001b[0m | \u001b[36mtrain\u001b[0m:\u001b[36msave_checkpoint\u001b[0m:\u001b[36m77\u001b[0m - \u001b[1mBest model saved: ./models/model_test/best_model.pth\u001b[0m\n",
      "\u001b[32m2024-12-02 18:22:07.845\u001b[0m | \u001b[1mINFO    \u001b[0m | \u001b[36mtrain\u001b[0m:\u001b[36mtrain\u001b[0m:\u001b[36m135\u001b[0m - \u001b[1mFor epoch 300: Train loss-> 1.198621506690979 | Val loss-> 1.1701356744766236\u001b[0m\n",
      "\u001b[32m2024-12-02 18:22:08.137\u001b[0m | \u001b[1mINFO    \u001b[0m | \u001b[36mtrain\u001b[0m:\u001b[36msave_checkpoint\u001b[0m:\u001b[36m72\u001b[0m - \u001b[1mCheckpoint saved: ./models/model_test/checkpoint_epoch_300.pth\u001b[0m\n",
      "\u001b[32m2024-12-02 18:22:08.412\u001b[0m | \u001b[1mINFO    \u001b[0m | \u001b[36mtrain\u001b[0m:\u001b[36msave_checkpoint\u001b[0m:\u001b[36m77\u001b[0m - \u001b[1mBest model saved: ./models/model_test/best_model.pth\u001b[0m\n",
      "\u001b[32m2024-12-02 18:22:14.416\u001b[0m | \u001b[1mINFO    \u001b[0m | \u001b[36mtrain\u001b[0m:\u001b[36mtrain\u001b[0m:\u001b[36m135\u001b[0m - \u001b[1mFor epoch 350: Train loss-> 1.1481932282447815 | Val loss-> 1.1438685297966003\u001b[0m\n",
      "\u001b[32m2024-12-02 18:22:14.712\u001b[0m | \u001b[1mINFO    \u001b[0m | \u001b[36mtrain\u001b[0m:\u001b[36msave_checkpoint\u001b[0m:\u001b[36m72\u001b[0m - \u001b[1mCheckpoint saved: ./models/model_test/checkpoint_epoch_350.pth\u001b[0m\n",
      "\u001b[32m2024-12-02 18:22:14.974\u001b[0m | \u001b[1mINFO    \u001b[0m | \u001b[36mtrain\u001b[0m:\u001b[36msave_checkpoint\u001b[0m:\u001b[36m77\u001b[0m - \u001b[1mBest model saved: ./models/model_test/best_model.pth\u001b[0m\n",
      "\u001b[32m2024-12-02 18:22:20.772\u001b[0m | \u001b[1mINFO    \u001b[0m | \u001b[36mtrain\u001b[0m:\u001b[36mtrain\u001b[0m:\u001b[36m135\u001b[0m - \u001b[1mFor epoch 400: Train loss-> 1.168660842180252 | Val loss-> 1.1698325288295746\u001b[0m\n",
      "\u001b[32m2024-12-02 18:22:21.060\u001b[0m | \u001b[1mINFO    \u001b[0m | \u001b[36mtrain\u001b[0m:\u001b[36msave_checkpoint\u001b[0m:\u001b[36m72\u001b[0m - \u001b[1mCheckpoint saved: ./models/model_test/checkpoint_epoch_400.pth\u001b[0m\n",
      "\u001b[32m2024-12-02 18:22:26.495\u001b[0m | \u001b[1mINFO    \u001b[0m | \u001b[36mtrain\u001b[0m:\u001b[36mtrain\u001b[0m:\u001b[36m135\u001b[0m - \u001b[1mFor epoch 450: Train loss-> 1.0863557612895967 | Val loss-> 1.0897104334831238\u001b[0m\n",
      "\u001b[32m2024-12-02 18:22:26.777\u001b[0m | \u001b[1mINFO    \u001b[0m | \u001b[36mtrain\u001b[0m:\u001b[36msave_checkpoint\u001b[0m:\u001b[36m72\u001b[0m - \u001b[1mCheckpoint saved: ./models/model_test/checkpoint_epoch_450.pth\u001b[0m\n",
      "\u001b[32m2024-12-02 18:22:27.048\u001b[0m | \u001b[1mINFO    \u001b[0m | \u001b[36mtrain\u001b[0m:\u001b[36msave_checkpoint\u001b[0m:\u001b[36m77\u001b[0m - \u001b[1mBest model saved: ./models/model_test/best_model.pth\u001b[0m\n"
     ]
    }
   ],
   "source": [
    "\n",
    "save_models_path = \"./models/model_\"+ model_version\n",
    "#TrainingLoop(model_params, train_params).train(train_loader, val_loader, save_models_path, resume_path=\"./models_v1/best_model.pth\")\n",
    "train_dict, val_dict = TrainingLoop(model_params, train_params).train(train_loader, val_loader, save_models_path)"
   ]
  },
  {
   "cell_type": "code",
   "execution_count": 29,
   "metadata": {},
   "outputs": [
    {
     "name": "stdout",
     "output_type": "stream",
     "text": [
      "{0: 1.588350625038147, 50: 1.318736982345581, 100: 1.2881325531005858, 150: 1.28753121137619, 200: 1.2545812582969667, 250: 1.2376726984977722, 300: 1.198621506690979, 350: 1.1481932282447815, 400: 1.168660842180252, 450: 1.0863557612895967}\n"
     ]
    }
   ],
   "source": [
    "print(train_dict)"
   ]
  },
  {
   "cell_type": "code",
   "execution_count": 30,
   "metadata": {},
   "outputs": [
    {
     "data": {
      "text/plain": [
       "'test'"
      ]
     },
     "execution_count": 30,
     "metadata": {},
     "output_type": "execute_result"
    }
   ],
   "source": [
    "model_version"
   ]
  },
  {
   "cell_type": "markdown",
   "metadata": {},
   "source": [
    "Provide an output plot for the current model"
   ]
  },
  {
   "cell_type": "code",
   "execution_count": 41,
   "metadata": {},
   "outputs": [
    {
     "data": {
      "image/png": "[encoded data removed]",
      "text/plain": [
       "<Figure size 1000x500 with 1 Axes>"
      ]
     },
     "metadata": {},
     "output_type": "display_data"
    }
   ],
   "source": [
    "# train values\n",
    "train_x = list(train_dict.keys())\n",
    "train_y = list(train_dict.values())\n",
    "\n",
    "# validation values\n",
    "val_x = list(val_dict.keys())\n",
    "val_y = list(val_dict.values())\n",
    "\n",
    "# Create the plot\n",
    "plt.figure(figsize=(10, 5))\n",
    "plt.plot(train_x, train_y, marker='o', linestyle='-', color='b', label='Training')\n",
    "plt.plot(val_x, val_y, marker='x', linestyle='-', color='r', label='Validation')\n",
    "\n",
    "# Add titles and labels\n",
    "title = 'Train vs Validation Loss for Model ' + model_version\n",
    "plt.title(title)\n",
    "plt.xlabel('Epochs')\n",
    "plt.ylabel('Loss Value')\n",
    "\n",
    "plt.legend()\n",
    "\n",
    "# Show the plot\n",
    "plt.grid(True)\n",
    "plt.show()"
   ]
  },
  {
   "cell_type": "markdown",
   "metadata": {},
   "source": [
    "## Evaluate Best model- load it from checkpoint"
   ]
  },
  {
   "cell_type": "code",
   "execution_count": 32,
   "metadata": {},
   "outputs": [
    {
     "name": "stderr",
     "output_type": "stream",
     "text": [
      "c:\\Users\\pesta\\Documents\\GithubRepos\\CSC871-Term-Project\\GPTDecoder\\eval.py:23: FutureWarning: You are using `torch.load` with `weights_only=False` (the current default value), which uses the default pickle module implicitly. It is possible to construct malicious pickle data which will execute arbitrary code during unpickling (See https://github.com/pytorch/pytorch/blob/main/SECURITY.md#untrusted-models for more details). In a future release, the default value for `weights_only` will be flipped to `True`. This limits the functions that could be executed during unpickling. Arbitrary objects will no longer be allowed to be loaded via this mode unless they are explicitly allowlisted by the user via `torch.serialization.add_safe_globals`. We recommend you start setting `weights_only=True` for any use case where you don't have full control of the loaded file. Please open an issue on GitHub for any issues related to this experimental feature.\n",
      "  checkpoint = torch.load(self.best_model_path, map_location=self.device)\n",
      "\u001b[32m2024-12-02 18:22:31.231\u001b[0m | \u001b[1mINFO    \u001b[0m | \u001b[36meval\u001b[0m:\u001b[36mload_best_model\u001b[0m:\u001b[36m27\u001b[0m - \u001b[1mBest model loaded from ./models/model_test/best_model.pth\u001b[0m\n"
     ]
    }
   ],
   "source": [
    "val_loader = custom_loader.get_val_loader(shuffle=False)\n",
    "best_model_path = \"./models/model_test/best_model.pth\"\n",
    "label_mapping = train_loader.dataset.reverse_labels_lookup_dict\n",
    "\n",
    "report = Evaluate(model_params, best_model_path).evaluate(val_loader, label_mapping)"
   ]
  },
  {
   "cell_type": "code",
   "execution_count": 33,
   "metadata": {},
   "outputs": [
    {
     "name": "stdout",
     "output_type": "stream",
     "text": [
      "              precision    recall  f1-score   support\n",
      "\n",
      "  Irrelevant     0.5273    0.1686    0.2555       172\n",
      "    Negative     0.5311    0.7068    0.6065       266\n",
      "     Neutral     0.5704    0.5825    0.5764       285\n",
      "    Positive     0.5533    0.5993    0.5754       277\n",
      "\n",
      "    accuracy                         0.5490      1000\n",
      "   macro avg     0.5455    0.5143    0.5034      1000\n",
      "weighted avg     0.5478    0.5490    0.5289      1000\n",
      "\n"
     ]
    }
   ],
   "source": [
    "print(report)"
   ]
  },
  {
   "cell_type": "markdown",
   "metadata": {},
   "source": [
    "## Infer on Raw text"
   ]
  },
  {
   "cell_type": "code",
   "execution_count": 34,
   "metadata": {},
   "outputs": [
    {
     "name": "stderr",
     "output_type": "stream",
     "text": [
      "c:\\Users\\pesta\\Documents\\GithubRepos\\CSC871-Term-Project\\GPTDecoder\\eval.py:23: FutureWarning: You are using `torch.load` with `weights_only=False` (the current default value), which uses the default pickle module implicitly. It is possible to construct malicious pickle data which will execute arbitrary code during unpickling (See https://github.com/pytorch/pytorch/blob/main/SECURITY.md#untrusted-models for more details). In a future release, the default value for `weights_only` will be flipped to `True`. This limits the functions that could be executed during unpickling. Arbitrary objects will no longer be allowed to be loaded via this mode unless they are explicitly allowlisted by the user via `torch.serialization.add_safe_globals`. We recommend you start setting `weights_only=True` for any use case where you don't have full control of the loaded file. Please open an issue on GitHub for any issues related to this experimental feature.\n",
      "  checkpoint = torch.load(self.best_model_path, map_location=self.device)\n",
      "\u001b[32m2024-12-02 18:22:32.217\u001b[0m | \u001b[1mINFO    \u001b[0m | \u001b[36meval\u001b[0m:\u001b[36mload_best_model\u001b[0m:\u001b[36m27\u001b[0m - \u001b[1mBest model loaded from ./models/model_test/best_model.pth\u001b[0m\n"
     ]
    }
   ],
   "source": [
    "model = Evaluate(model_params, best_model_path).model"
   ]
  },
  {
   "cell_type": "code",
   "execution_count": 35,
   "metadata": {},
   "outputs": [],
   "source": [
    "def infer_on_raw_text(raw_text: str) -> str:\n",
    "\n",
    "  encoded_inp = torch.tensor(train_loader.dataset.encode_text(input), dtype=torch.long, device=model_params.get('device')).unsqueeze(0)\n",
    "  logits = model(encoded_inp)\n",
    "  probs = F.softmax(logits[0], dim=-1)\n",
    "  # Find the index of the largest element\n",
    "  max_index = torch.argmax(probs, dim=1)\n",
    "\n",
    "  label = label_mapping[max_index.item()]\n",
    "  return label"
   ]
  },
  {
   "cell_type": "code",
   "execution_count": 40,
   "metadata": {},
   "outputs": [
    {
     "data": {
      "text/plain": [
       "'Neutral'"
      ]
     },
     "execution_count": 40,
     "metadata": {},
     "output_type": "execute_result"
    }
   ],
   "source": [
    "text = \"Good\"\n",
    "infer_on_raw_text(text)"
   ]
  },
  {
   "cell_type": "code",
   "execution_count": 37,
   "metadata": {},
   "outputs": [
    {
     "name": "stdout",
     "output_type": "stream",
     "text": [
      "Vocabulary size: 100277\n"
     ]
    }
   ],
   "source": [
    "import tiktoken\n",
    "tokenizer = tiktoken.get_encoding(\"cl100k_base\") # hardcoding this for now\n",
    "vocab_size = tokenizer.n_vocab  # Vocabulary size from the tokenizer\n",
    "print(\"Vocabulary size:\", vocab_size)"
   ]
  },
  {
   "cell_type": "code",
   "execution_count": 38,
   "metadata": {},
   "outputs": [
    {
     "name": "stdout",
     "output_type": "stream",
     "text": [
      "Input text: 1234\n"
     ]
    }
   ],
   "source": [
    "x = \"123456\"\n",
    "print(\"Input text:\", x[:4])"
   ]
  }
 ],
 "metadata": {
  "kernelspec": {
   "display_name": "CSC871",
   "language": "python",
   "name": "python3"
  },
  "language_info": {
   "codemirror_mode": {
    "name": "ipython",
    "version": 3
   },
   "file_extension": ".py",
   "mimetype": "text/x-python",
   "name": "python",
   "nbconvert_exporter": "python",
   "pygments_lexer": "ipython3",
   "version": "3.11.9"
  }
 },
 "nbformat": 4,
 "nbformat_minor": 2
}
