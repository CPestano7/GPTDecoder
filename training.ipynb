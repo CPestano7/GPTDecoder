{
 "cells": [
  {
   "cell_type": "code",
   "execution_count": 1,
   "metadata": {},
   "outputs": [],
   "source": [
    "%load_ext autoreload\n",
    "%autoreload 2"
   ]
  },
  {
   "cell_type": "markdown",
   "metadata": {},
   "source": [
    "## Imports"
   ]
  },
  {
   "cell_type": "code",
   "execution_count": 2,
   "metadata": {},
   "outputs": [
    {
     "data": {
      "text/plain": [
       "<torch._C.Generator at 0x1b585734190>"
      ]
     },
     "execution_count": 2,
     "metadata": {},
     "output_type": "execute_result"
    }
   ],
   "source": [
    "import torch\n",
    "import kagglehub\n",
    "import pandas as pd\n",
    "from data_loader import CustomDataLoader\n",
    "from train import TrainingLoop\n",
    "from eval import Evaluate\n",
    "import torch.nn.functional as F\n",
    "\n",
    "# added for plots\n",
    "import matplotlib.pyplot as plt\n",
    "\n",
    "# added for to save the loss values for reuse if a plot needs to be remade\n",
    "import os\n",
    "import json\n",
    "torch.manual_seed(1337)"
   ]
  },
  {
   "cell_type": "markdown",
   "metadata": {},
   "source": [
    "## Download Dataset"
   ]
  },
  {
   "cell_type": "code",
   "execution_count": 3,
   "metadata": {},
   "outputs": [
    {
     "name": "stdout",
     "output_type": "stream",
     "text": [
      "Path to dataset files: C:\\Users\\pesta\\.cache\\kagglehub\\datasets\\jp797498e\\twitter-entity-sentiment-analysis\\versions\\2\n"
     ]
    }
   ],
   "source": [
    "# Download the dataset to the specified path\n",
    "path = kagglehub.dataset_download(\"jp797498e/twitter-entity-sentiment-analysis\")\n",
    "\n",
    "print(\"Path to dataset files:\", path)"
   ]
  },
  {
   "cell_type": "markdown",
   "metadata": {},
   "source": [
    "## Read data into CSV files"
   ]
  },
  {
   "cell_type": "code",
   "execution_count": 4,
   "metadata": {},
   "outputs": [],
   "source": [
    "train_df = pd.read_csv(f\"{path}/twitter_training.csv\", header = None)\n",
    "val_df = pd.read_csv(f\"{path}/twitter_validation.csv\", header = None)"
   ]
  },
  {
   "cell_type": "code",
   "execution_count": 5,
   "metadata": {},
   "outputs": [
    {
     "data": {
      "text/html": [
       "<div>\n",
       "<style scoped>\n",
       "    .dataframe tbody tr th:only-of-type {\n",
       "        vertical-align: middle;\n",
       "    }\n",
       "\n",
       "    .dataframe tbody tr th {\n",
       "        vertical-align: top;\n",
       "    }\n",
       "\n",
       "    .dataframe thead th {\n",
       "        text-align: right;\n",
       "    }\n",
       "</style>\n",
       "<table border=\"1\" class=\"dataframe\">\n",
       "  <thead>\n",
       "    <tr style=\"text-align: right;\">\n",
       "      <th></th>\n",
       "      <th>0</th>\n",
       "      <th>1</th>\n",
       "      <th>2</th>\n",
       "      <th>3</th>\n",
       "    </tr>\n",
       "  </thead>\n",
       "  <tbody>\n",
       "    <tr>\n",
       "      <th>0</th>\n",
       "      <td>2401</td>\n",
       "      <td>Borderlands</td>\n",
       "      <td>Positive</td>\n",
       "      <td>im getting on borderlands and i will murder yo...</td>\n",
       "    </tr>\n",
       "    <tr>\n",
       "      <th>1</th>\n",
       "      <td>2401</td>\n",
       "      <td>Borderlands</td>\n",
       "      <td>Positive</td>\n",
       "      <td>I am coming to the borders and I will kill you...</td>\n",
       "    </tr>\n",
       "    <tr>\n",
       "      <th>2</th>\n",
       "      <td>2401</td>\n",
       "      <td>Borderlands</td>\n",
       "      <td>Positive</td>\n",
       "      <td>im getting on borderlands and i will kill you ...</td>\n",
       "    </tr>\n",
       "    <tr>\n",
       "      <th>3</th>\n",
       "      <td>2401</td>\n",
       "      <td>Borderlands</td>\n",
       "      <td>Positive</td>\n",
       "      <td>im coming on borderlands and i will murder you...</td>\n",
       "    </tr>\n",
       "    <tr>\n",
       "      <th>4</th>\n",
       "      <td>2401</td>\n",
       "      <td>Borderlands</td>\n",
       "      <td>Positive</td>\n",
       "      <td>im getting on borderlands 2 and i will murder ...</td>\n",
       "    </tr>\n",
       "  </tbody>\n",
       "</table>\n",
       "</div>"
      ],
      "text/plain": [
       "      0            1         2  \\\n",
       "0  2401  Borderlands  Positive   \n",
       "1  2401  Borderlands  Positive   \n",
       "2  2401  Borderlands  Positive   \n",
       "3  2401  Borderlands  Positive   \n",
       "4  2401  Borderlands  Positive   \n",
       "\n",
       "                                                   3  \n",
       "0  im getting on borderlands and i will murder yo...  \n",
       "1  I am coming to the borders and I will kill you...  \n",
       "2  im getting on borderlands and i will kill you ...  \n",
       "3  im coming on borderlands and i will murder you...  \n",
       "4  im getting on borderlands 2 and i will murder ...  "
      ]
     },
     "execution_count": 5,
     "metadata": {},
     "output_type": "execute_result"
    }
   ],
   "source": [
    "train_df.head()"
   ]
  },
  {
   "cell_type": "code",
   "execution_count": 6,
   "metadata": {},
   "outputs": [
    {
     "name": "stdout",
     "output_type": "stream",
     "text": [
      "Total number of samples: 75682\n",
      "Number of samples in training set: 74682\n",
      "Number of samples in validation set: 1000\n"
     ]
    }
   ],
   "source": [
    "x = train_df.shape[0] + val_df.shape[0]\n",
    "print(f\"Total number of samples: {x}\")\n",
    "print(f\"Number of samples in training set: {train_df.shape[0]}\")\n",
    "print(f\"Number of samples in validation set: {val_df.shape[0]}\")"
   ]
  },
  {
   "cell_type": "markdown",
   "metadata": {},
   "source": [
    "## Load data in CustomDataLoader"
   ]
  },
  {
   "cell_type": "code",
   "execution_count": 7,
   "metadata": {},
   "outputs": [],
   "source": [
    "text_col = 3    # Column index for input text\n",
    "label_col = 2   # Column index for labels\n",
    "batch_size = 64 # Batch size for training and validation\n",
    "\n",
    "# Initialize CustomDataLoader\n",
    "custom_loader = CustomDataLoader(train_df, val_df, text_col, label_col, batch_size)\n",
    "\n",
    "# Get train and validation loaders\n",
    "train_loader = custom_loader.get_train_loader(shuffle=True)\n",
    "val_loader = custom_loader.get_val_loader(shuffle=True)"
   ]
  },
  {
   "cell_type": "markdown",
   "metadata": {},
   "source": [
    "## Define Model Params"
   ]
  },
  {
   "cell_type": "code",
   "execution_count": 8,
   "metadata": {},
   "outputs": [],
   "source": [
    "model_version = \"test\""
   ]
  },
  {
   "cell_type": "code",
   "execution_count": 9,
   "metadata": {},
   "outputs": [],
   "source": [
    "model_params = {\n",
    "    \"vocab_size\": train_loader.dataset.vocab_size,\n",
    "    \"num_embeddings\": 80,\n",
    "    \"block_size\": train_loader.dataset.block_size,\n",
    "    \"num_heads\": 4,\n",
    "    \"num_layers\": 4,\n",
    "    \"output_classes\": len(train_loader.dataset.labels_lookup_dict),\n",
    "    \"dropout\": 0.2,\n",
    "    \"device\": 'cuda' if torch.cuda.is_available() else 'cpu'\n",
    "}"
   ]
  },
  {
   "cell_type": "markdown",
   "metadata": {},
   "source": [
    "## Define Training Params"
   ]
  },
  {
   "cell_type": "code",
   "execution_count": 10,
   "metadata": {},
   "outputs": [],
   "source": [
    "train_params = {\n",
    "    \"num_epochs\": 500,\n",
    "    \"eval_interval\": 50,\n",
    "    \"eval_iters\": 500,\n",
    "    \"learning_rate\": 3e-4\n",
    "}"
   ]
  },
  {
   "cell_type": "markdown",
   "metadata": {},
   "source": [
    "## Code to parse old saved outputs and convert them into train and val dictionaries usable by the JSON save function (for models created before loss data was automatically stored in the loss JSON file)\n",
    "The loss data for these models were originally stored in a text file"
   ]
  },
  {
   "cell_type": "code",
   "execution_count": 11,
   "metadata": {},
   "outputs": [],
   "source": [
    "# Lines of interest are of the following format:\n",
    "# 2024-12-02 23:34:37.293 | INFO     | train:train:135 - For epoch 0: Train loss-> 1.3974379754066468 | Val loss-> 1.395492012500763\n",
    "\n",
    "# Paste raw output here (Contains special characters, some of which are tacked on to the end of the validation \n",
    "raw_text = \"\"\"\n",
    "2024-12-03 00:12:49.036 | INFO     | train:train:135 - For epoch 0: Train loss-> 1.401136145591736 | Val loss-> 1.3954114282131196\n",
    "2024-12-03 00:12:49.147 | INFO     | train:save_checkpoint:72 - Checkpoint saved: ./models/model_test/checkpoint_epoch_0.pth\n",
    "2024-12-03 00:12:49.257 | INFO     | train:save_checkpoint:77 - Best model saved: ./models/model_test/best_model.pth\n",
    "2024-12-03 00:13:11.692 | INFO     | train:train:135 - For epoch 50: Train loss-> 1.3476397531032562 | Val loss-> 1.3485286581516265\n",
    "2024-12-03 00:13:11.809 | INFO     | train:save_checkpoint:72 - Checkpoint saved: ./models/model_test/checkpoint_epoch_50.pth\n",
    "2024-12-03 00:13:11.922 | INFO     | train:save_checkpoint:77 - Best model saved: ./models/model_test/best_model.pth\n",
    "2024-12-03 00:13:26.518 | INFO     | train:train:135 - For epoch 100: Train loss-> 1.3286450238227845 | Val loss-> 1.3242574632167816\n",
    "2024-12-03 00:13:26.636 | INFO     | train:save_checkpoint:72 - Checkpoint saved: ./models/model_test/checkpoint_epoch_100.pth\n",
    "2024-12-03 00:13:26.761 | INFO     | train:save_checkpoint:77 - Best model saved: ./models/model_test/best_model.pth\n",
    "2024-12-03 00:13:36.826 | INFO     | train:train:135 - For epoch 150: Train loss-> 1.2999500081539155 | Val loss-> 1.2846487443447112\n",
    "2024-12-03 00:13:36.947 | INFO     | train:save_checkpoint:72 - Checkpoint saved: ./models/model_test/checkpoint_epoch_150.pth\n",
    "2024-12-03 00:13:37.059 | INFO     | train:save_checkpoint:77 - Best model saved: ./models/model_test/best_model.pth\n",
    "2024-12-03 00:13:47.151 | INFO     | train:train:135 - For epoch 200: Train loss-> 1.2861177718639374 | Val loss-> 1.2801540467739105\n",
    "2024-12-03 00:13:47.254 | INFO     | train:save_checkpoint:72 - Checkpoint saved: ./models/model_test/checkpoint_epoch_200.pth\n",
    "2024-12-03 00:13:47.349 | INFO     | train:save_checkpoint:77 - Best model saved: ./models/model_test/best_model.pth\n",
    "2024-12-03 00:13:57.867 | INFO     | train:train:135 - For epoch 250: Train loss-> 1.2676267681121827 | Val loss-> 1.2557220368385316\n",
    "2024-12-03 00:13:57.983 | INFO     | train:save_checkpoint:72 - Checkpoint saved: ./models/model_test/checkpoint_epoch_250.pth\n",
    "2024-12-03 00:13:58.081 | INFO     | train:save_checkpoint:77 - Best model saved: ./models/model_test/best_model.pth\n",
    "2024-12-03 00:14:08.503 | INFO     | train:train:135 - For epoch 300: Train loss-> 1.2783513350486755 | Val loss-> 1.2828768928050995\n",
    "2024-12-03 00:14:08.609 | INFO     | train:save_checkpoint:72 - Checkpoint saved: ./models/model_test/checkpoint_epoch_300.pth\n",
    "2024-12-03 00:14:19.120 | INFO     | train:train:135 - For epoch 350: Train loss-> 1.2628617616891862 | Val loss-> 1.2337264609336853\n",
    "2024-12-03 00:14:19.229 | INFO     | train:save_checkpoint:72 - Checkpoint saved: ./models/model_test/checkpoint_epoch_350.pth\n",
    "2024-12-03 00:14:19.332 | INFO     | train:save_checkpoint:77 - Best model saved: ./models/model_test/best_model.pth\n",
    "2024-12-03 00:14:29.816 | INFO     | train:train:135 - For epoch 400: Train loss-> 1.2400790109634399 | Val loss-> 1.2346852452754975\n",
    "2024-12-03 00:14:29.922 | INFO     | train:save_checkpoint:72 - Checkpoint saved: ./models/model_test/checkpoint_epoch_400.pth\n",
    "2024-12-03 00:14:40.149 | INFO     | train:train:135 - For epoch 450: Train loss-> 1.2302005734443664 | Val loss-> 1.2137968860864639\n",
    "2024-12-03 00:14:40.256 | INFO     | train:save_checkpoint:72 - Checkpoint saved: ./models/model_test/checkpoint_epoch_450.pth\n",
    "2024-12-03 00:14:40.355 | INFO     | train:save_checkpoint:77 - Best model saved: ./models/model_test/best_model.pth\n",
    "\"\"\"\n",
    "# train_dict = {}\n",
    "# val_dict = {}\n",
    "# line_split = raw_text.split(\"\\n\")\n",
    "# for line in line_split:\n",
    "#     word_split = line.split(\" \")\n",
    "#     for word in range(len(word_split)):\n",
    "#         if word_split[word] == \"epoch\":\n",
    "#             # convert to float to keep consistent with the dictionary key vals coming from the train function return\n",
    "#             # float string has an ':' appendeded to the end, so we need to remove it\n",
    "#             epoch = float(word_split[word+1][:-1])\n",
    "#         elif word_split[word] == \"loss->\":\n",
    "#             if word_split[word-1] == \"Train\":\n",
    "#                 train_dict[epoch] = float(word_split[word+1])\n",
    "#             elif word_split[word-1] == \"Val\":\n",
    "#                 val_dict[epoch]= float(word_split[word+1])"
   ]
  },
  {
   "cell_type": "markdown",
   "metadata": {},
   "source": [
    "## Training Loop"
   ]
  },
  {
   "cell_type": "code",
   "execution_count": 12,
   "metadata": {},
   "outputs": [
    {
     "name": "stderr",
     "output_type": "stream",
     "text": [
      "\u001b[32m2024-12-04 20:19:48.617\u001b[0m | \u001b[1mINFO    \u001b[0m | \u001b[36mtrain\u001b[0m:\u001b[36mtrain\u001b[0m:\u001b[36m135\u001b[0m - \u001b[1mFor epoch 0: Train loss-> 1.401136145591736 | Val loss-> 1.3954114282131196\u001b[0m\n",
      "\u001b[32m2024-12-04 20:19:48.736\u001b[0m | \u001b[1mINFO    \u001b[0m | \u001b[36mtrain\u001b[0m:\u001b[36msave_checkpoint\u001b[0m:\u001b[36m72\u001b[0m - \u001b[1mCheckpoint saved: ./models/model_test/checkpoint_epoch_0.pth\u001b[0m\n",
      "\u001b[32m2024-12-04 20:19:48.911\u001b[0m | \u001b[1mINFO    \u001b[0m | \u001b[36mtrain\u001b[0m:\u001b[36msave_checkpoint\u001b[0m:\u001b[36m77\u001b[0m - \u001b[1mBest model saved: ./models/model_test/best_model.pth\u001b[0m\n",
      "\u001b[32m2024-12-04 20:20:09.895\u001b[0m | \u001b[1mINFO    \u001b[0m | \u001b[36mtrain\u001b[0m:\u001b[36mtrain\u001b[0m:\u001b[36m135\u001b[0m - \u001b[1mFor epoch 50: Train loss-> 1.3476397531032562 | Val loss-> 1.3485286581516265\u001b[0m\n",
      "\u001b[32m2024-12-04 20:20:10.006\u001b[0m | \u001b[1mINFO    \u001b[0m | \u001b[36mtrain\u001b[0m:\u001b[36msave_checkpoint\u001b[0m:\u001b[36m72\u001b[0m - \u001b[1mCheckpoint saved: ./models/model_test/checkpoint_epoch_50.pth\u001b[0m\n",
      "\u001b[32m2024-12-04 20:20:10.126\u001b[0m | \u001b[1mINFO    \u001b[0m | \u001b[36mtrain\u001b[0m:\u001b[36msave_checkpoint\u001b[0m:\u001b[36m77\u001b[0m - \u001b[1mBest model saved: ./models/model_test/best_model.pth\u001b[0m\n",
      "\u001b[32m2024-12-04 20:20:29.596\u001b[0m | \u001b[1mINFO    \u001b[0m | \u001b[36mtrain\u001b[0m:\u001b[36mtrain\u001b[0m:\u001b[36m135\u001b[0m - \u001b[1mFor epoch 100: Train loss-> 1.3286450238227845 | Val loss-> 1.3242574632167816\u001b[0m\n",
      "\u001b[32m2024-12-04 20:20:29.708\u001b[0m | \u001b[1mINFO    \u001b[0m | \u001b[36mtrain\u001b[0m:\u001b[36msave_checkpoint\u001b[0m:\u001b[36m72\u001b[0m - \u001b[1mCheckpoint saved: ./models/model_test/checkpoint_epoch_100.pth\u001b[0m\n",
      "\u001b[32m2024-12-04 20:20:29.822\u001b[0m | \u001b[1mINFO    \u001b[0m | \u001b[36mtrain\u001b[0m:\u001b[36msave_checkpoint\u001b[0m:\u001b[36m77\u001b[0m - \u001b[1mBest model saved: ./models/model_test/best_model.pth\u001b[0m\n",
      "\u001b[32m2024-12-04 20:20:49.305\u001b[0m | \u001b[1mINFO    \u001b[0m | \u001b[36mtrain\u001b[0m:\u001b[36mtrain\u001b[0m:\u001b[36m135\u001b[0m - \u001b[1mFor epoch 150: Train loss-> 1.2999500081539155 | Val loss-> 1.2846487443447112\u001b[0m\n",
      "\u001b[32m2024-12-04 20:20:49.413\u001b[0m | \u001b[1mINFO    \u001b[0m | \u001b[36mtrain\u001b[0m:\u001b[36msave_checkpoint\u001b[0m:\u001b[36m72\u001b[0m - \u001b[1mCheckpoint saved: ./models/model_test/checkpoint_epoch_150.pth\u001b[0m\n",
      "\u001b[32m2024-12-04 20:20:49.525\u001b[0m | \u001b[1mINFO    \u001b[0m | \u001b[36mtrain\u001b[0m:\u001b[36msave_checkpoint\u001b[0m:\u001b[36m77\u001b[0m - \u001b[1mBest model saved: ./models/model_test/best_model.pth\u001b[0m\n",
      "\u001b[32m2024-12-04 20:21:10.557\u001b[0m | \u001b[1mINFO    \u001b[0m | \u001b[36mtrain\u001b[0m:\u001b[36mtrain\u001b[0m:\u001b[36m135\u001b[0m - \u001b[1mFor epoch 200: Train loss-> 1.2861177718639374 | Val loss-> 1.2801540467739105\u001b[0m\n",
      "\u001b[32m2024-12-04 20:21:10.682\u001b[0m | \u001b[1mINFO    \u001b[0m | \u001b[36mtrain\u001b[0m:\u001b[36msave_checkpoint\u001b[0m:\u001b[36m72\u001b[0m - \u001b[1mCheckpoint saved: ./models/model_test/checkpoint_epoch_200.pth\u001b[0m\n",
      "\u001b[32m2024-12-04 20:21:10.807\u001b[0m | \u001b[1mINFO    \u001b[0m | \u001b[36mtrain\u001b[0m:\u001b[36msave_checkpoint\u001b[0m:\u001b[36m77\u001b[0m - \u001b[1mBest model saved: ./models/model_test/best_model.pth\u001b[0m\n",
      "\u001b[32m2024-12-04 20:21:30.244\u001b[0m | \u001b[1mINFO    \u001b[0m | \u001b[36mtrain\u001b[0m:\u001b[36mtrain\u001b[0m:\u001b[36m135\u001b[0m - \u001b[1mFor epoch 250: Train loss-> 1.2676267681121827 | Val loss-> 1.2557220368385316\u001b[0m\n",
      "\u001b[32m2024-12-04 20:21:30.352\u001b[0m | \u001b[1mINFO    \u001b[0m | \u001b[36mtrain\u001b[0m:\u001b[36msave_checkpoint\u001b[0m:\u001b[36m72\u001b[0m - \u001b[1mCheckpoint saved: ./models/model_test/checkpoint_epoch_250.pth\u001b[0m\n",
      "\u001b[32m2024-12-04 20:21:30.460\u001b[0m | \u001b[1mINFO    \u001b[0m | \u001b[36mtrain\u001b[0m:\u001b[36msave_checkpoint\u001b[0m:\u001b[36m77\u001b[0m - \u001b[1mBest model saved: ./models/model_test/best_model.pth\u001b[0m\n",
      "\u001b[32m2024-12-04 20:21:51.462\u001b[0m | \u001b[1mINFO    \u001b[0m | \u001b[36mtrain\u001b[0m:\u001b[36mtrain\u001b[0m:\u001b[36m135\u001b[0m - \u001b[1mFor epoch 300: Train loss-> 1.2783513350486755 | Val loss-> 1.2828768928050995\u001b[0m\n",
      "\u001b[32m2024-12-04 20:21:51.696\u001b[0m | \u001b[1mINFO    \u001b[0m | \u001b[36mtrain\u001b[0m:\u001b[36msave_checkpoint\u001b[0m:\u001b[36m72\u001b[0m - \u001b[1mCheckpoint saved: ./models/model_test/checkpoint_epoch_300.pth\u001b[0m\n",
      "\u001b[32m2024-12-04 20:22:12.650\u001b[0m | \u001b[1mINFO    \u001b[0m | \u001b[36mtrain\u001b[0m:\u001b[36mtrain\u001b[0m:\u001b[36m135\u001b[0m - \u001b[1mFor epoch 350: Train loss-> 1.2628617616891862 | Val loss-> 1.2337264609336853\u001b[0m\n",
      "\u001b[32m2024-12-04 20:22:12.758\u001b[0m | \u001b[1mINFO    \u001b[0m | \u001b[36mtrain\u001b[0m:\u001b[36msave_checkpoint\u001b[0m:\u001b[36m72\u001b[0m - \u001b[1mCheckpoint saved: ./models/model_test/checkpoint_epoch_350.pth\u001b[0m\n",
      "\u001b[32m2024-12-04 20:22:12.878\u001b[0m | \u001b[1mINFO    \u001b[0m | \u001b[36mtrain\u001b[0m:\u001b[36msave_checkpoint\u001b[0m:\u001b[36m77\u001b[0m - \u001b[1mBest model saved: ./models/model_test/best_model.pth\u001b[0m\n",
      "\u001b[32m2024-12-04 20:22:33.097\u001b[0m | \u001b[1mINFO    \u001b[0m | \u001b[36mtrain\u001b[0m:\u001b[36mtrain\u001b[0m:\u001b[36m135\u001b[0m - \u001b[1mFor epoch 400: Train loss-> 1.2400790109634399 | Val loss-> 1.2346852452754975\u001b[0m\n",
      "\u001b[32m2024-12-04 20:22:33.204\u001b[0m | \u001b[1mINFO    \u001b[0m | \u001b[36mtrain\u001b[0m:\u001b[36msave_checkpoint\u001b[0m:\u001b[36m72\u001b[0m - \u001b[1mCheckpoint saved: ./models/model_test/checkpoint_epoch_400.pth\u001b[0m\n",
      "\u001b[32m2024-12-04 20:22:52.383\u001b[0m | \u001b[1mINFO    \u001b[0m | \u001b[36mtrain\u001b[0m:\u001b[36mtrain\u001b[0m:\u001b[36m135\u001b[0m - \u001b[1mFor epoch 450: Train loss-> 1.2302005734443664 | Val loss-> 1.2137968860864639\u001b[0m\n",
      "\u001b[32m2024-12-04 20:22:52.500\u001b[0m | \u001b[1mINFO    \u001b[0m | \u001b[36mtrain\u001b[0m:\u001b[36msave_checkpoint\u001b[0m:\u001b[36m72\u001b[0m - \u001b[1mCheckpoint saved: ./models/model_test/checkpoint_epoch_450.pth\u001b[0m\n",
      "\u001b[32m2024-12-04 20:22:52.625\u001b[0m | \u001b[1mINFO    \u001b[0m | \u001b[36mtrain\u001b[0m:\u001b[36msave_checkpoint\u001b[0m:\u001b[36m77\u001b[0m - \u001b[1mBest model saved: ./models/model_test/best_model.pth\u001b[0m\n"
     ]
    }
   ],
   "source": [
    "save_models_path = \"./models/model_\"+ model_version\n",
    "#TrainingLoop(model_params, train_params).train(train_loader, val_loader, save_models_path, resume_path=\"./models_v1/best_model.pth\")\n",
    "train_dict, val_dict = TrainingLoop(model_params, train_params).train(train_loader, val_loader, save_models_path)"
   ]
  },
  {
   "cell_type": "code",
   "execution_count": 13,
   "metadata": {},
   "outputs": [
    {
     "data": {
      "text/plain": [
       "{0: 1.401136145591736,\n",
       " 50: 1.3476397531032562,\n",
       " 100: 1.3286450238227845,\n",
       " 150: 1.2999500081539155,\n",
       " 200: 1.2861177718639374,\n",
       " 250: 1.2676267681121827,\n",
       " 300: 1.2783513350486755,\n",
       " 350: 1.2628617616891862,\n",
       " 400: 1.2400790109634399,\n",
       " 450: 1.2302005734443664}"
      ]
     },
     "execution_count": 13,
     "metadata": {},
     "output_type": "execute_result"
    }
   ],
   "source": [
    "train_dict"
   ]
  },
  {
   "cell_type": "code",
   "execution_count": 14,
   "metadata": {},
   "outputs": [
    {
     "data": {
      "text/plain": [
       "'test'"
      ]
     },
     "execution_count": 14,
     "metadata": {},
     "output_type": "execute_result"
    }
   ],
   "source": [
    "model_version"
   ]
  },
  {
   "cell_type": "markdown",
   "metadata": {},
   "source": [
    "Create or update a JSON file containing a list of all loss plots, saved as dictionaries"
   ]
  },
  {
   "cell_type": "code",
   "execution_count": 15,
   "metadata": {},
   "outputs": [],
   "source": [
    "# Combine train_dict and val_dict into a single dictionary\n",
    "current_model = \"model_\" + model_version\n",
    "combined_dict = {\n",
    "    # 'model_version': current_model,\n",
    "    'train_dict': train_dict,\n",
    "    'val_dict': val_dict\n",
    "}\n",
    "\n",
    "# If the JSON file already exists, add or update it\n",
    "if os.path.exists('model_loss_dicts.json'):\n",
    "    with open('model_loss_dicts.json', 'r') as json_file:\n",
    "        all_lists = json.load(json_file)\n",
    "        all_lists[current_model] = combined_dict\n",
    "        # file path will be in the same directory as the notebook\n",
    "        # Updating and adding to the JSON file is the same\n",
    "        with open('model_loss_dicts.json', 'w') as json_file:\n",
    "            json.dump(all_lists, json_file, indent=4)\n",
    "            \n",
    "# # If the JSON file does not exists, it is the first run; create a new JSON file with the combined dictionary\n",
    "else:\n",
    "# # Save the combined dictionary to a JSON file\n",
    "    all_lists = {}\n",
    "    all_lists[current_model] = combined_dict\n",
    "    with open('model_loss_dicts.json', 'w') as json_file:\n",
    "        json.dump(all_lists, json_file, indent=4)"
   ]
  },
  {
   "cell_type": "markdown",
   "metadata": {},
   "source": [
    "Provide an output plot for the current model"
   ]
  },
  {
   "cell_type": "code",
   "execution_count": 16,
   "metadata": {},
   "outputs": [
    {
     "data": {
      "image/png": "[encoded data removed]",
      "text/plain": [
       "<Figure size 1000x500 with 1 Axes>"
      ]
     },
     "metadata": {},
     "output_type": "display_data"
    }
   ],
   "source": [
    "# For manual designation\n",
    "#target_model = \"model_test\"\n",
    "\n",
    "# For current model\n",
    "target_model = current_model\n",
    "\n",
    "# Load the loss values from the JSON file\n",
    "with open('model_loss_dicts.json', 'r') as json_file:\n",
    "    # all_list is a dict of model dicts, \n",
    "    # each model dict has a train_dict and val_dict\n",
    "    all_lists = json.load(json_file)\n",
    "\n",
    "# Get the train dictionary\n",
    "train_x = all_lists[target_model]['train_dict'].keys()\n",
    "train_y = all_lists[target_model]['train_dict'].values()\n",
    "\n",
    "\n",
    "# Get the validation dictionary\n",
    "val_x = all_lists[target_model]['val_dict'].keys()\n",
    "val_y = all_lists[target_model]['val_dict'].values()\n",
    "\n",
    "# Create the plot\n",
    "plt.figure(figsize=(10, 5))\n",
    "plt.plot(train_x, train_y, marker='o', linestyle='-', color='b', label='Training')\n",
    "plt.plot(val_x, val_y, marker='x', linestyle='-', color='r', label='Validation')\n",
    "\n",
    "# Add titles and labels\n",
    "title = 'Train vs Validation Loss for Model ' + model_version\n",
    "plt.title(title)\n",
    "plt.xlabel('Epochs')\n",
    "plt.ylabel('Loss Value')\n",
    "\n",
    "plt.legend()\n",
    "\n",
    "# Show the plot\n",
    "plt.grid(True)\n",
    "plt.show()"
   ]
  },
  {
   "cell_type": "markdown",
   "metadata": {},
   "source": [
    "## Evaluate Best model- load it from checkpoint"
   ]
  },
  {
   "cell_type": "code",
   "execution_count": 19,
   "metadata": {},
   "outputs": [
    {
     "name": "stderr",
     "output_type": "stream",
     "text": [
      "c:\\Users\\pesta\\Documents\\GithubRepos\\CSC871-Term-Project\\GPTDecoder\\eval.py:23: FutureWarning: You are using `torch.load` with `weights_only=False` (the current default value), which uses the default pickle module implicitly. It is possible to construct malicious pickle data which will execute arbitrary code during unpickling (See https://github.com/pytorch/pytorch/blob/main/SECURITY.md#untrusted-models for more details). In a future release, the default value for `weights_only` will be flipped to `True`. This limits the functions that could be executed during unpickling. Arbitrary objects will no longer be allowed to be loaded via this mode unless they are explicitly allowlisted by the user via `torch.serialization.add_safe_globals`. We recommend you start setting `weights_only=True` for any use case where you don't have full control of the loaded file. Please open an issue on GitHub for any issues related to this experimental feature.\n",
      "  checkpoint = torch.load(self.best_model_path, map_location=self.device)\n",
      "\u001b[32m2024-12-04 20:23:44.834\u001b[0m | \u001b[1mINFO    \u001b[0m | \u001b[36meval\u001b[0m:\u001b[36mload_best_model\u001b[0m:\u001b[36m27\u001b[0m - \u001b[1mBest model loaded from ./models/model_test/best_model.pth\u001b[0m\n"
     ]
    }
   ],
   "source": [
    "val_loader = custom_loader.get_val_loader(shuffle=False)\n",
    "# Manually load the best model\n",
    "best_model_path = \"./models/\" + current_model + \"/best_model.pth\"\n",
    "\n",
    "# Load the best iteration of the current model\n",
    "# best_model_path = \"./models/model_test/best_model.pth\"\n",
    "\n",
    "\n",
    "label_mapping = train_loader.dataset.reverse_labels_lookup_dict\n",
    "\n",
    "report = Evaluate(model_params, best_model_path).evaluate(val_loader, label_mapping)"
   ]
  },
  {
   "cell_type": "code",
   "execution_count": 20,
   "metadata": {},
   "outputs": [
    {
     "name": "stdout",
     "output_type": "stream",
     "text": [
      "              precision    recall  f1-score   support\n",
      "\n",
      "  Irrelevant     0.0000    0.0000    0.0000       172\n",
      "    Negative     0.4228    0.7519    0.5413       266\n",
      "     Neutral     0.4837    0.6246    0.5452       285\n",
      "    Positive     0.5253    0.2996    0.3816       277\n",
      "\n",
      "    accuracy                         0.4610      1000\n",
      "   macro avg     0.3580    0.4190    0.3670      1000\n",
      "weighted avg     0.3958    0.4610    0.4051      1000\n",
      "\n"
     ]
    }
   ],
   "source": [
    "print(report)"
   ]
  },
  {
   "cell_type": "markdown",
   "metadata": {},
   "source": [
    "## Infer on Raw text"
   ]
  },
  {
   "cell_type": "code",
   "execution_count": 21,
   "metadata": {},
   "outputs": [
    {
     "name": "stderr",
     "output_type": "stream",
     "text": [
      "c:\\Users\\pesta\\Documents\\GithubRepos\\CSC871-Term-Project\\GPTDecoder\\eval.py:23: FutureWarning: You are using `torch.load` with `weights_only=False` (the current default value), which uses the default pickle module implicitly. It is possible to construct malicious pickle data which will execute arbitrary code during unpickling (See https://github.com/pytorch/pytorch/blob/main/SECURITY.md#untrusted-models for more details). In a future release, the default value for `weights_only` will be flipped to `True`. This limits the functions that could be executed during unpickling. Arbitrary objects will no longer be allowed to be loaded via this mode unless they are explicitly allowlisted by the user via `torch.serialization.add_safe_globals`. We recommend you start setting `weights_only=True` for any use case where you don't have full control of the loaded file. Please open an issue on GitHub for any issues related to this experimental feature.\n",
      "  checkpoint = torch.load(self.best_model_path, map_location=self.device)\n",
      "\u001b[32m2024-12-04 20:23:49.495\u001b[0m | \u001b[1mINFO    \u001b[0m | \u001b[36meval\u001b[0m:\u001b[36mload_best_model\u001b[0m:\u001b[36m27\u001b[0m - \u001b[1mBest model loaded from ./models/model_test/best_model.pth\u001b[0m\n"
     ]
    }
   ],
   "source": [
    "model = Evaluate(model_params, best_model_path).model"
   ]
  },
  {
   "cell_type": "code",
   "execution_count": 22,
   "metadata": {},
   "outputs": [],
   "source": [
    "def infer_on_raw_text(raw_text: str) -> str:\n",
    "\n",
    "  encoded_inp = torch.tensor(train_loader.dataset.encode_text(input), dtype=torch.long, device=model_params.get('device')).unsqueeze(0)\n",
    "  logits = model(encoded_inp)\n",
    "  probs = F.softmax(logits[0], dim=-1)\n",
    "  # Find the index of the largest element\n",
    "  max_index = torch.argmax(probs, dim=1)\n",
    "\n",
    "  label = label_mapping[max_index.item()]\n",
    "  return label"
   ]
  },
  {
   "cell_type": "code",
   "execution_count": 23,
   "metadata": {},
   "outputs": [
    {
     "data": {
      "text/plain": [
       "'Neutral'"
      ]
     },
     "execution_count": 23,
     "metadata": {},
     "output_type": "execute_result"
    }
   ],
   "source": [
    "text = \"Good\"\n",
    "infer_on_raw_text(text)"
   ]
  },
  {
   "cell_type": "code",
   "execution_count": 24,
   "metadata": {},
   "outputs": [
    {
     "name": "stdout",
     "output_type": "stream",
     "text": [
      "Vocabulary size: 100277\n"
     ]
    }
   ],
   "source": [
    "import tiktoken\n",
    "tokenizer = tiktoken.get_encoding(\"cl100k_base\") # hardcoding this for now\n",
    "vocab_size = tokenizer.n_vocab  # Vocabulary size from the tokenizer\n",
    "print(\"Vocabulary size:\", vocab_size)"
   ]
  }
 ],
 "metadata": {
  "kernelspec": {
   "display_name": "CSC871",
   "language": "python",
   "name": "python3"
  },
  "language_info": {
   "codemirror_mode": {
    "name": "ipython",
    "version": 3
   },
   "file_extension": ".py",
   "mimetype": "text/x-python",
   "name": "python",
   "nbconvert_exporter": "python",
   "pygments_lexer": "ipython3",
   "version": "3.11.9"
  }
 },
 "nbformat": 4,
 "nbformat_minor": 2
}
